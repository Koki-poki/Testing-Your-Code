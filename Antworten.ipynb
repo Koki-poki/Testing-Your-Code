{
 "cells": [
  {
   "cell_type": "markdown",
   "id": "86be7dd7",
   "metadata": {},
   "source": [
    "### ⭐️ Übungsaufgabe: Addiere mit Umwandlung\n",
    "\n",
    "Schreibe eine Funktion `addiere(a, b)`, die zwei Werte addiert.  \n",
    "Falls ein Wert ein String ist (z. B. \"2.5\"), soll er zuerst in eine Zahl umgewandelt werden.  \n",
    "Gib das Ergebnis als Zahl zurück.\n",
    "\n",
    "🧠 **Tipps**:\n",
    "- Verwende `float(...)`, um Strings umzuwandeln  \n",
    "- Prüfe den Typ mit `isinstance(...)`\n"
   ]
  },
  {
   "cell_type": "code",
   "execution_count": null,
   "id": "72c09fbc",
   "metadata": {},
   "outputs": [],
   "source": [
    "# Deine Funktion hier ↓\n",
    "\n",
    "def addiere(a, b):\n",
    "    # dein Code hier\n",
    "    if isinstance(a, str):\n",
    "        a = float(a)\n",
    "    if isinstance(b, str):\n",
    "        b = float(b)\n",
    "    return a + b\n"
   ]
  },
  {
   "cell_type": "markdown",
   "id": "11d14038",
   "metadata": {},
   "source": [
    "### 🌡️ Übungsaufgabe: Temperatur umrechnen\n",
    "\n",
    "Schreibe eine Funktion `celsius_zu_fahrenheit(c)`, die Celsius in Fahrenheit umrechnet.  \n",
    "Wenn der Eingabewert kein int oder float ist, soll ein `TypeError` ausgelöst werden.\n",
    "\n",
    "🧠 **Tipps**:\n",
    "- Formel: `(c * 9/5) + 32`  \n",
    "- Nutze `raise TypeError(...)`\n"
   ]
  },
  {
   "cell_type": "code",
   "execution_count": null,
   "id": "80b1baec",
   "metadata": {},
   "outputs": [],
   "source": [
    "# Deine Funktion hier ↓\n",
    "\n",
    "def celsius_zu_fahrenheit(c):\n",
    "    # dein Code hier\n",
    "    if not isinstance(c, (int, float)):\n",
    "        raise TypeError(\"Eingabewert muss int oder float sein\")\n",
    "    return (c * 9/5) + 32\n"
   ]
  },
  {
   "cell_type": "markdown",
   "id": "1c685209",
   "metadata": {},
   "source": [
    "### 🔢 Übungsaufgabe: Finde gerade Zahlen in Liste\n",
    "\n",
    "Schreibe eine Funktion `finde_gerade_zahlen(liste)`, die alle geraden Ganzzahlen aus einer Liste extrahiert und als neue Liste zurückgibt.\n",
    "\n",
    "🧠 **Tipps**:\n",
    "- Modulo-Operator: `n % 2 == 0`  \n",
    "- Typprüfung: `isinstance(n, int)`\n"
   ]
  },
  {
   "cell_type": "code",
   "execution_count": null,
   "id": "e0b99db4",
   "metadata": {},
   "outputs": [],
   "source": [
    "# Deine Funktion hier ↓\n",
    "\n",
    "def finde_gerade_zahlen(liste):\n",
    "    # dein Code hier\n",
    "    return [n for n in liste if isinstance(n, int) and n % 2 == 0]\n"
   ]
  },
  {
   "cell_type": "markdown",
   "id": "63aedb70",
   "metadata": {},
   "source": [
    "### 🏆 Übungsaufgabe: Finde alle Maximalwerte\n",
    "\n",
    "Schreibe eine Funktion `finde_maximum(werte)`, die **alle Vorkommen** des maximalen Wertes in der Liste zurückgibt.  \n",
    "Wenn die Liste leer ist, soll `None` zurückgegeben werden.\n",
    "\n",
    "🧠 **Tipps**:\n",
    "- Verwende `max()` und eine List Comprehension  \n",
    "- Prüfe auf leere Listen\n"
   ]
  },
  {
   "cell_type": "code",
   "execution_count": null,
   "id": "2dfde9c4",
   "metadata": {},
   "outputs": [],
   "source": [
    "# Deine Funktion hier ↓\n",
    "\n",
    "def finde_maximum(werte):\n",
    "    # dein Code hier\n",
    "    if not werte:\n",
    "        return None\n",
    "    max_wert = max(werte)\n",
    "    return [w for w in werte if w == max_wert]\n"
   ]
  },
  {
   "cell_type": "markdown",
   "id": "8729f95e",
   "metadata": {},
   "source": [
    "### 🚗 Übungsaufgabe: Klasse Auto mit Beschreibung\n",
    "\n",
    "Erstelle eine Klasse `Auto` mit den Attributen `marke` und `baujahr`.  \n",
    "Die Methode `beschreibung()` soll z. B. so aussehen:  \n",
    "`\"VW – 5 Jahre alt.\"` (wenn das aktuelle Jahr 2025 ist).\n",
    "\n",
    "🧠 **Tipps**:\n",
    "- Rechne Alter mit: `2025 - baujahr`  \n",
    "- Gib String mit f-Strings zurück\n"
   ]
  },
  {
   "cell_type": "code",
   "execution_count": null,
   "id": "302b4a9d",
   "metadata": {},
   "outputs": [],
   "source": [
    "# Deine Klasse hier ↓\n",
    "\n",
    "class Auto:\n",
    "    def __init__(self, marke, baujahr):\n",
    "        # dein Code hier\n",
    "        self.marke = marke\n",
    "        self.baujahr = baujahr\n",
    "\n",
    "    def beschreibung(self):\n",
    "        # dein Code hier\n",
    "        alter = 2025 - self.baujahr\n",
    "        return f\"{self.marke} – {alter} Jahre alt.\"\n"
   ]
  }
 ],
 "metadata": {},
 "nbformat": 4,
 "nbformat_minor": 5
}