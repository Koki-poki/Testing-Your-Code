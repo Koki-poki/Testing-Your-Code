{
 "cells": [
  {
   "cell_type": "markdown",
   "id": "89460b68",
   "metadata": {},
   "source": [
    "### ⭐️ Übungsaufgabe: Addiere mit Umwandlung\n",
    "\n",
    "Schreibe eine Funktion `addiere(a, b)`, die zwei Werte addiert.  \n",
    "Falls ein Wert ein String ist (z. B. \"2.5\"), soll er zuerst in eine Zahl umgewandelt werden.  \n",
    "Gib das Ergebnis als Zahl zurück.\n",
    "\n",
    "🧠 **Tipps**:\n",
    "- Verwende `float(...)`, um Strings umzuwandeln  \n",
    "- Prüfe den Typ mit `isinstance(...)`\n"
   ]
  },
  {
   "cell_type": "code",
   "execution_count": null,
   "id": "a0b8c096",
   "metadata": {},
   "outputs": [],
   "source": [
    "# Deine Funktion hier ↓\n",
    "\n",
    "def addiere(a, b):\n",
    "    # dein Code hier\n",
    "    pass\n"
   ]
  },
  {
   "cell_type": "markdown",
   "id": "1c3c397b",
   "metadata": {},
   "source": [
    "### 🌡️ Übungsaufgabe: Temperatur umrechnen\n",
    "\n",
    "Schreibe eine Funktion `celsius_zu_fahrenheit(c)`, die Celsius in Fahrenheit umrechnet.  \n",
    "Wenn der Eingabewert kein int oder float ist, soll ein `TypeError` ausgelöst werden.\n",
    "\n",
    "🧠 **Tipps**:\n",
    "- Formel: `(c * 9/5) + 32`  \n",
    "- Nutze `raise TypeError(...)`\n"
   ]
  },
  {
   "cell_type": "code",
   "execution_count": null,
   "id": "e07dd58a",
   "metadata": {},
   "outputs": [],
   "source": [
    "# Deine Funktion hier ↓\n",
    "\n",
    "def celsius_zu_fahrenheit(c):\n",
    "    # dein Code hier\n",
    "    pass\n"
   ]
  },
  {
   "cell_type": "markdown",
   "id": "88720743",
   "metadata": {},
   "source": [
    "### 🔢 Übungsaufgabe: Finde gerade Zahlen in Liste\n",
    "\n",
    "Schreibe eine Funktion `finde_gerade_zahlen(liste)`, die alle geraden Ganzzahlen aus einer Liste extrahiert und als neue Liste zurückgibt.\n",
    "\n",
    "🧠 **Tipps**:\n",
    "- Modulo-Operator: `n % 2 == 0`  \n",
    "- Typprüfung: `isinstance(n, int)`\n"
   ]
  },
  {
   "cell_type": "code",
   "execution_count": null,
   "id": "efdd3e26",
   "metadata": {},
   "outputs": [],
   "source": [
    "# Deine Funktion hier ↓\n",
    "\n",
    "def finde_gerade_zahlen(liste):\n",
    "    # dein Code hier\n",
    "    pass\n"
   ]
  },
  {
   "cell_type": "markdown",
   "id": "1d79d392",
   "metadata": {},
   "source": [
    "### 🏆 Übungsaufgabe: Finde alle Maximalwerte\n",
    "\n",
    "Schreibe eine Funktion `finde_maximum(werte)`, die **alle Vorkommen** des maximalen Wertes in der Liste zurückgibt.  \n",
    "Wenn die Liste leer ist, soll `None` zurückgegeben werden.\n",
    "\n",
    "🧠 **Tipps**:\n",
    "- Verwende `max()` und eine List Comprehension  \n",
    "- Prüfe auf leere Listen\n"
   ]
  },
  {
   "cell_type": "code",
   "execution_count": null,
   "id": "e1a0b5c6",
   "metadata": {},
   "outputs": [],
   "source": [
    "# Deine Funktion hier ↓\n",
    "\n",
    "def finde_maximum(werte):\n",
    "    # dein Code hier\n",
    "    pass\n"
   ]
  },
  {
   "cell_type": "markdown",
   "id": "e630e07b",
   "metadata": {},
   "source": [
    "### 🚗 Übungsaufgabe: Klasse Auto mit Beschreibung\n",
    "\n",
    "Erstelle eine Klasse `Auto` mit den Attributen `marke` und `baujahr`.  \n",
    "Die Methode `beschreibung()` soll z. B. so aussehen:  \n",
    "`\"VW – 5 Jahre alt.\"` (wenn das aktuelle Jahr 2025 ist).\n",
    "\n",
    "🧠 **Tipps**:\n",
    "- Rechne Alter mit: `2025 - baujahr`  \n",
    "- Gib String mit f-Strings zurück\n"
   ]
  },
  {
   "cell_type": "code",
   "execution_count": null,
   "id": "841b960b",
   "metadata": {},
   "outputs": [],
   "source": [
    "# Deine Klasse hier ↓\n",
    "\n",
    "class Auto:\n",
    "    def __init__(self, marke, baujahr):\n",
    "        # dein Code hier\n",
    "        pass\n",
    "\n",
    "    def beschreibung(self):\n",
    "        # dein Code hier\n",
    "        pass\n"
   ]
  }
 ],
 "metadata": {},
 "nbformat": 4,
 "nbformat_minor": 5
}